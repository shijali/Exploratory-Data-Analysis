{
 "cells": [
  {
   "cell_type": "markdown",
   "id": "ead2761f",
   "metadata": {},
   "source": [
    "# Shijali Khare"
   ]
  },
  {
   "cell_type": "markdown",
   "id": "rough-fetish",
   "metadata": {},
   "source": [
    "# Task 3: Exploratory Data Analysis :Retail(Beginner)"
   ]
  },
  {
   "cell_type": "markdown",
   "id": "rotary-footwear",
   "metadata": {},
   "source": [
    "## Task:\n",
    "    Perform ‘Exploratory Data Analysis’ on dataset ‘SampleSuperstore’\n",
    "    As a business manager, try to find out the weak areas where you can\n",
    "    work to make more profit."
   ]
  },
  {
   "cell_type": "code",
   "execution_count": 1,
   "id": "dangerous-designation",
   "metadata": {},
   "outputs": [],
   "source": [
    "import pandas as pd\n",
    "import numpy as np\n",
    "import seaborn as sns\n",
    "import matplotlib.pyplot as plt\n",
    "%matplotlib inline\n"
   ]
  },
  {
   "cell_type": "code",
   "execution_count": 2,
   "id": "worthy-medicare",
   "metadata": {},
   "outputs": [],
   "source": [
    "# now we will load the data\n",
    "data=pd.read_csv('Desktop/SampleSuperstore.csv')"
   ]
  },
  {
   "cell_type": "code",
   "execution_count": 3,
   "id": "improved-bride",
   "metadata": {},
   "outputs": [
    {
     "data": {
      "text/html": [
       "<div>\n",
       "<style scoped>\n",
       "    .dataframe tbody tr th:only-of-type {\n",
       "        vertical-align: middle;\n",
       "    }\n",
       "\n",
       "    .dataframe tbody tr th {\n",
       "        vertical-align: top;\n",
       "    }\n",
       "\n",
       "    .dataframe thead th {\n",
       "        text-align: right;\n",
       "    }\n",
       "</style>\n",
       "<table border=\"1\" class=\"dataframe\">\n",
       "  <thead>\n",
       "    <tr style=\"text-align: right;\">\n",
       "      <th></th>\n",
       "      <th>Ship Mode</th>\n",
       "      <th>Segment</th>\n",
       "      <th>Country</th>\n",
       "      <th>City</th>\n",
       "      <th>State</th>\n",
       "      <th>Postal Code</th>\n",
       "      <th>Region</th>\n",
       "      <th>Category</th>\n",
       "      <th>Sub-Category</th>\n",
       "      <th>Sales</th>\n",
       "      <th>Quantity</th>\n",
       "      <th>Discount</th>\n",
       "      <th>Profit</th>\n",
       "    </tr>\n",
       "  </thead>\n",
       "  <tbody>\n",
       "    <tr>\n",
       "      <th>0</th>\n",
       "      <td>Second Class</td>\n",
       "      <td>Consumer</td>\n",
       "      <td>United States</td>\n",
       "      <td>Henderson</td>\n",
       "      <td>Kentucky</td>\n",
       "      <td>42420</td>\n",
       "      <td>South</td>\n",
       "      <td>Furniture</td>\n",
       "      <td>Bookcases</td>\n",
       "      <td>261.9600</td>\n",
       "      <td>2</td>\n",
       "      <td>0.00</td>\n",
       "      <td>41.9136</td>\n",
       "    </tr>\n",
       "    <tr>\n",
       "      <th>1</th>\n",
       "      <td>Second Class</td>\n",
       "      <td>Consumer</td>\n",
       "      <td>United States</td>\n",
       "      <td>Henderson</td>\n",
       "      <td>Kentucky</td>\n",
       "      <td>42420</td>\n",
       "      <td>South</td>\n",
       "      <td>Furniture</td>\n",
       "      <td>Chairs</td>\n",
       "      <td>731.9400</td>\n",
       "      <td>3</td>\n",
       "      <td>0.00</td>\n",
       "      <td>219.5820</td>\n",
       "    </tr>\n",
       "    <tr>\n",
       "      <th>2</th>\n",
       "      <td>Second Class</td>\n",
       "      <td>Corporate</td>\n",
       "      <td>United States</td>\n",
       "      <td>Los Angeles</td>\n",
       "      <td>California</td>\n",
       "      <td>90036</td>\n",
       "      <td>West</td>\n",
       "      <td>Office Supplies</td>\n",
       "      <td>Labels</td>\n",
       "      <td>14.6200</td>\n",
       "      <td>2</td>\n",
       "      <td>0.00</td>\n",
       "      <td>6.8714</td>\n",
       "    </tr>\n",
       "    <tr>\n",
       "      <th>3</th>\n",
       "      <td>Standard Class</td>\n",
       "      <td>Consumer</td>\n",
       "      <td>United States</td>\n",
       "      <td>Fort Lauderdale</td>\n",
       "      <td>Florida</td>\n",
       "      <td>33311</td>\n",
       "      <td>South</td>\n",
       "      <td>Furniture</td>\n",
       "      <td>Tables</td>\n",
       "      <td>957.5775</td>\n",
       "      <td>5</td>\n",
       "      <td>0.45</td>\n",
       "      <td>-383.0310</td>\n",
       "    </tr>\n",
       "    <tr>\n",
       "      <th>4</th>\n",
       "      <td>Standard Class</td>\n",
       "      <td>Consumer</td>\n",
       "      <td>United States</td>\n",
       "      <td>Fort Lauderdale</td>\n",
       "      <td>Florida</td>\n",
       "      <td>33311</td>\n",
       "      <td>South</td>\n",
       "      <td>Office Supplies</td>\n",
       "      <td>Storage</td>\n",
       "      <td>22.3680</td>\n",
       "      <td>2</td>\n",
       "      <td>0.20</td>\n",
       "      <td>2.5164</td>\n",
       "    </tr>\n",
       "  </tbody>\n",
       "</table>\n",
       "</div>"
      ],
      "text/plain": [
       "        Ship Mode    Segment        Country             City       State  \\\n",
       "0    Second Class   Consumer  United States        Henderson    Kentucky   \n",
       "1    Second Class   Consumer  United States        Henderson    Kentucky   \n",
       "2    Second Class  Corporate  United States      Los Angeles  California   \n",
       "3  Standard Class   Consumer  United States  Fort Lauderdale     Florida   \n",
       "4  Standard Class   Consumer  United States  Fort Lauderdale     Florida   \n",
       "\n",
       "   Postal Code Region         Category Sub-Category     Sales  Quantity  \\\n",
       "0        42420  South        Furniture    Bookcases  261.9600         2   \n",
       "1        42420  South        Furniture       Chairs  731.9400         3   \n",
       "2        90036   West  Office Supplies       Labels   14.6200         2   \n",
       "3        33311  South        Furniture       Tables  957.5775         5   \n",
       "4        33311  South  Office Supplies      Storage   22.3680         2   \n",
       "\n",
       "   Discount    Profit  \n",
       "0      0.00   41.9136  \n",
       "1      0.00  219.5820  \n",
       "2      0.00    6.8714  \n",
       "3      0.45 -383.0310  \n",
       "4      0.20    2.5164  "
      ]
     },
     "execution_count": 3,
     "metadata": {},
     "output_type": "execute_result"
    }
   ],
   "source": [
    "data.head()\n",
    "# to see the top 5 enteries of data."
   ]
  },
  {
   "cell_type": "code",
   "execution_count": 4,
   "id": "protected-mainstream",
   "metadata": {},
   "outputs": [
    {
     "data": {
      "text/plain": [
       "Ship Mode       0\n",
       "Segment         0\n",
       "Country         0\n",
       "City            0\n",
       "State           0\n",
       "Postal Code     0\n",
       "Region          0\n",
       "Category        0\n",
       "Sub-Category    0\n",
       "Sales           0\n",
       "Quantity        0\n",
       "Discount        0\n",
       "Profit          0\n",
       "dtype: int64"
      ]
     },
     "execution_count": 4,
     "metadata": {},
     "output_type": "execute_result"
    }
   ],
   "source": [
    "# firstly checking the missing values\n",
    "data.isnull().sum()"
   ]
  },
  {
   "cell_type": "code",
   "execution_count": 5,
   "id": "ready-seeker",
   "metadata": {},
   "outputs": [],
   "source": [
    "# hence we see there are no missing values in our data."
   ]
  },
  {
   "cell_type": "code",
   "execution_count": 6,
   "id": "approved-experiment",
   "metadata": {},
   "outputs": [
    {
     "name": "stdout",
     "output_type": "stream",
     "text": [
      "<class 'pandas.core.frame.DataFrame'>\n",
      "RangeIndex: 9994 entries, 0 to 9993\n",
      "Data columns (total 13 columns):\n",
      " #   Column        Non-Null Count  Dtype  \n",
      "---  ------        --------------  -----  \n",
      " 0   Ship Mode     9994 non-null   object \n",
      " 1   Segment       9994 non-null   object \n",
      " 2   Country       9994 non-null   object \n",
      " 3   City          9994 non-null   object \n",
      " 4   State         9994 non-null   object \n",
      " 5   Postal Code   9994 non-null   int64  \n",
      " 6   Region        9994 non-null   object \n",
      " 7   Category      9994 non-null   object \n",
      " 8   Sub-Category  9994 non-null   object \n",
      " 9   Sales         9994 non-null   float64\n",
      " 10  Quantity      9994 non-null   int64  \n",
      " 11  Discount      9994 non-null   float64\n",
      " 12  Profit        9994 non-null   float64\n",
      "dtypes: float64(3), int64(2), object(8)\n",
      "memory usage: 1015.1+ KB\n"
     ]
    }
   ],
   "source": [
    "data.info()"
   ]
  },
  {
   "cell_type": "code",
   "execution_count": 7,
   "id": "improving-russian",
   "metadata": {},
   "outputs": [
    {
     "data": {
      "text/html": [
       "<div>\n",
       "<style scoped>\n",
       "    .dataframe tbody tr th:only-of-type {\n",
       "        vertical-align: middle;\n",
       "    }\n",
       "\n",
       "    .dataframe tbody tr th {\n",
       "        vertical-align: top;\n",
       "    }\n",
       "\n",
       "    .dataframe thead th {\n",
       "        text-align: right;\n",
       "    }\n",
       "</style>\n",
       "<table border=\"1\" class=\"dataframe\">\n",
       "  <thead>\n",
       "    <tr style=\"text-align: right;\">\n",
       "      <th></th>\n",
       "      <th>Postal Code</th>\n",
       "      <th>Sales</th>\n",
       "      <th>Quantity</th>\n",
       "      <th>Discount</th>\n",
       "      <th>Profit</th>\n",
       "    </tr>\n",
       "  </thead>\n",
       "  <tbody>\n",
       "    <tr>\n",
       "      <th>count</th>\n",
       "      <td>9994.000000</td>\n",
       "      <td>9994.000000</td>\n",
       "      <td>9994.000000</td>\n",
       "      <td>9994.000000</td>\n",
       "      <td>9994.000000</td>\n",
       "    </tr>\n",
       "    <tr>\n",
       "      <th>mean</th>\n",
       "      <td>55190.379428</td>\n",
       "      <td>229.858001</td>\n",
       "      <td>3.789574</td>\n",
       "      <td>0.156203</td>\n",
       "      <td>28.656896</td>\n",
       "    </tr>\n",
       "    <tr>\n",
       "      <th>std</th>\n",
       "      <td>32063.693350</td>\n",
       "      <td>623.245101</td>\n",
       "      <td>2.225110</td>\n",
       "      <td>0.206452</td>\n",
       "      <td>234.260108</td>\n",
       "    </tr>\n",
       "    <tr>\n",
       "      <th>min</th>\n",
       "      <td>1040.000000</td>\n",
       "      <td>0.444000</td>\n",
       "      <td>1.000000</td>\n",
       "      <td>0.000000</td>\n",
       "      <td>-6599.978000</td>\n",
       "    </tr>\n",
       "    <tr>\n",
       "      <th>25%</th>\n",
       "      <td>23223.000000</td>\n",
       "      <td>17.280000</td>\n",
       "      <td>2.000000</td>\n",
       "      <td>0.000000</td>\n",
       "      <td>1.728750</td>\n",
       "    </tr>\n",
       "    <tr>\n",
       "      <th>50%</th>\n",
       "      <td>56430.500000</td>\n",
       "      <td>54.490000</td>\n",
       "      <td>3.000000</td>\n",
       "      <td>0.200000</td>\n",
       "      <td>8.666500</td>\n",
       "    </tr>\n",
       "    <tr>\n",
       "      <th>75%</th>\n",
       "      <td>90008.000000</td>\n",
       "      <td>209.940000</td>\n",
       "      <td>5.000000</td>\n",
       "      <td>0.200000</td>\n",
       "      <td>29.364000</td>\n",
       "    </tr>\n",
       "    <tr>\n",
       "      <th>max</th>\n",
       "      <td>99301.000000</td>\n",
       "      <td>22638.480000</td>\n",
       "      <td>14.000000</td>\n",
       "      <td>0.800000</td>\n",
       "      <td>8399.976000</td>\n",
       "    </tr>\n",
       "  </tbody>\n",
       "</table>\n",
       "</div>"
      ],
      "text/plain": [
       "        Postal Code         Sales     Quantity     Discount       Profit\n",
       "count   9994.000000   9994.000000  9994.000000  9994.000000  9994.000000\n",
       "mean   55190.379428    229.858001     3.789574     0.156203    28.656896\n",
       "std    32063.693350    623.245101     2.225110     0.206452   234.260108\n",
       "min     1040.000000      0.444000     1.000000     0.000000 -6599.978000\n",
       "25%    23223.000000     17.280000     2.000000     0.000000     1.728750\n",
       "50%    56430.500000     54.490000     3.000000     0.200000     8.666500\n",
       "75%    90008.000000    209.940000     5.000000     0.200000    29.364000\n",
       "max    99301.000000  22638.480000    14.000000     0.800000  8399.976000"
      ]
     },
     "execution_count": 7,
     "metadata": {},
     "output_type": "execute_result"
    }
   ],
   "source": [
    "data.describe()"
   ]
  },
  {
   "cell_type": "markdown",
   "id": "accredited-objective",
   "metadata": {},
   "source": [
    "###  OBSERVATION : From this we see some useful information linke min sales=1040 , max sales=99301 , min profit =-6599 ,max profit=8399 and much more"
   ]
  },
  {
   "cell_type": "code",
   "execution_count": 8,
   "id": "collaborative-essay",
   "metadata": {},
   "outputs": [
    {
     "name": "stdout",
     "output_type": "stream",
     "text": [
      "Total Sales are 2297200.8603000003 and Total profit is 286397.0217\n"
     ]
    }
   ],
   "source": [
    "# now lets see the total sales and total profit \n",
    "print('Total Sales are {} and Total profit is {}'.format(data['Sales'].sum(),data['Profit'].sum()))"
   ]
  },
  {
   "cell_type": "markdown",
   "id": "retained-portable",
   "metadata": {},
   "source": [
    "### OBSERVATION\n",
    "total sales of company is 2297200 and total profit is 286397"
   ]
  },
  {
   "cell_type": "markdown",
   "id": "designed-hotel",
   "metadata": {},
   "source": [
    "## Country\n"
   ]
  },
  {
   "cell_type": "code",
   "execution_count": 9,
   "id": "silver-shore",
   "metadata": {},
   "outputs": [
    {
     "data": {
      "text/plain": [
       "United States    9994\n",
       "Name: Country, dtype: int64"
      ]
     },
     "execution_count": 9,
     "metadata": {},
     "output_type": "execute_result"
    }
   ],
   "source": [
    "# now lets see how many countries are there\n",
    "data['Country'].value_counts()"
   ]
  },
  {
   "cell_type": "markdown",
   "id": "raising-alpha",
   "metadata": {},
   "source": [
    "###  OBSERVATION: since there is only a single country therefore there is no need for this column and also postal code and hence we will drop this from our dataset"
   ]
  },
  {
   "cell_type": "code",
   "execution_count": 10,
   "id": "pressing-recorder",
   "metadata": {},
   "outputs": [],
   "source": [
    "data=data.drop(['Country','Postal Code'],axis=1)"
   ]
  },
  {
   "cell_type": "code",
   "execution_count": 11,
   "id": "separate-consumption",
   "metadata": {},
   "outputs": [
    {
     "data": {
      "text/html": [
       "<div>\n",
       "<style scoped>\n",
       "    .dataframe tbody tr th:only-of-type {\n",
       "        vertical-align: middle;\n",
       "    }\n",
       "\n",
       "    .dataframe tbody tr th {\n",
       "        vertical-align: top;\n",
       "    }\n",
       "\n",
       "    .dataframe thead th {\n",
       "        text-align: right;\n",
       "    }\n",
       "</style>\n",
       "<table border=\"1\" class=\"dataframe\">\n",
       "  <thead>\n",
       "    <tr style=\"text-align: right;\">\n",
       "      <th></th>\n",
       "      <th>Ship Mode</th>\n",
       "      <th>Segment</th>\n",
       "      <th>City</th>\n",
       "      <th>State</th>\n",
       "      <th>Region</th>\n",
       "      <th>Category</th>\n",
       "      <th>Sub-Category</th>\n",
       "      <th>Sales</th>\n",
       "      <th>Quantity</th>\n",
       "      <th>Discount</th>\n",
       "      <th>Profit</th>\n",
       "    </tr>\n",
       "  </thead>\n",
       "  <tbody>\n",
       "    <tr>\n",
       "      <th>0</th>\n",
       "      <td>Second Class</td>\n",
       "      <td>Consumer</td>\n",
       "      <td>Henderson</td>\n",
       "      <td>Kentucky</td>\n",
       "      <td>South</td>\n",
       "      <td>Furniture</td>\n",
       "      <td>Bookcases</td>\n",
       "      <td>261.9600</td>\n",
       "      <td>2</td>\n",
       "      <td>0.00</td>\n",
       "      <td>41.9136</td>\n",
       "    </tr>\n",
       "    <tr>\n",
       "      <th>1</th>\n",
       "      <td>Second Class</td>\n",
       "      <td>Consumer</td>\n",
       "      <td>Henderson</td>\n",
       "      <td>Kentucky</td>\n",
       "      <td>South</td>\n",
       "      <td>Furniture</td>\n",
       "      <td>Chairs</td>\n",
       "      <td>731.9400</td>\n",
       "      <td>3</td>\n",
       "      <td>0.00</td>\n",
       "      <td>219.5820</td>\n",
       "    </tr>\n",
       "    <tr>\n",
       "      <th>2</th>\n",
       "      <td>Second Class</td>\n",
       "      <td>Corporate</td>\n",
       "      <td>Los Angeles</td>\n",
       "      <td>California</td>\n",
       "      <td>West</td>\n",
       "      <td>Office Supplies</td>\n",
       "      <td>Labels</td>\n",
       "      <td>14.6200</td>\n",
       "      <td>2</td>\n",
       "      <td>0.00</td>\n",
       "      <td>6.8714</td>\n",
       "    </tr>\n",
       "    <tr>\n",
       "      <th>3</th>\n",
       "      <td>Standard Class</td>\n",
       "      <td>Consumer</td>\n",
       "      <td>Fort Lauderdale</td>\n",
       "      <td>Florida</td>\n",
       "      <td>South</td>\n",
       "      <td>Furniture</td>\n",
       "      <td>Tables</td>\n",
       "      <td>957.5775</td>\n",
       "      <td>5</td>\n",
       "      <td>0.45</td>\n",
       "      <td>-383.0310</td>\n",
       "    </tr>\n",
       "    <tr>\n",
       "      <th>4</th>\n",
       "      <td>Standard Class</td>\n",
       "      <td>Consumer</td>\n",
       "      <td>Fort Lauderdale</td>\n",
       "      <td>Florida</td>\n",
       "      <td>South</td>\n",
       "      <td>Office Supplies</td>\n",
       "      <td>Storage</td>\n",
       "      <td>22.3680</td>\n",
       "      <td>2</td>\n",
       "      <td>0.20</td>\n",
       "      <td>2.5164</td>\n",
       "    </tr>\n",
       "  </tbody>\n",
       "</table>\n",
       "</div>"
      ],
      "text/plain": [
       "        Ship Mode    Segment             City       State Region  \\\n",
       "0    Second Class   Consumer        Henderson    Kentucky  South   \n",
       "1    Second Class   Consumer        Henderson    Kentucky  South   \n",
       "2    Second Class  Corporate      Los Angeles  California   West   \n",
       "3  Standard Class   Consumer  Fort Lauderdale     Florida  South   \n",
       "4  Standard Class   Consumer  Fort Lauderdale     Florida  South   \n",
       "\n",
       "          Category Sub-Category     Sales  Quantity  Discount    Profit  \n",
       "0        Furniture    Bookcases  261.9600         2      0.00   41.9136  \n",
       "1        Furniture       Chairs  731.9400         3      0.00  219.5820  \n",
       "2  Office Supplies       Labels   14.6200         2      0.00    6.8714  \n",
       "3        Furniture       Tables  957.5775         5      0.45 -383.0310  \n",
       "4  Office Supplies      Storage   22.3680         2      0.20    2.5164  "
      ]
     },
     "execution_count": 11,
     "metadata": {},
     "output_type": "execute_result"
    }
   ],
   "source": [
    "data.head()"
   ]
  },
  {
   "cell_type": "code",
   "execution_count": 12,
   "id": "approximate-caribbean",
   "metadata": {},
   "outputs": [
    {
     "data": {
      "text/plain": [
       "<AxesSubplot:>"
      ]
     },
     "execution_count": 12,
     "metadata": {},
     "output_type": "execute_result"
    },
    {
     "data": {
      "image/png": "[encoded data removed]",
      "text/plain": [
       "<Figure size 432x288 with 2 Axes>"
      ]
     },
     "metadata": {
      "needs_background": "light"
     },
     "output_type": "display_data"
    }
   ],
   "source": [
    "sns.heatmap(data.corr(),annot = True, cmap = 'Reds')"
   ]
  },
  {
   "cell_type": "code",
   "execution_count": 13,
   "id": "eight-hello",
   "metadata": {},
   "outputs": [],
   "source": [
    "# From this heatmap we see the correlation betwwen all features with each other."
   ]
  },
  {
   "cell_type": "code",
   "execution_count": 14,
   "id": "friendly-alfred",
   "metadata": {},
   "outputs": [],
   "source": [
    "# now lets take every feature and analyse it seperately and find some good observations and solutions for problems.\n"
   ]
  },
  {
   "cell_type": "markdown",
   "id": "first-shore",
   "metadata": {},
   "source": [
    "## Costumers"
   ]
  },
  {
   "cell_type": "code",
   "execution_count": 15,
   "id": "baking-change",
   "metadata": {},
   "outputs": [
    {
     "data": {
      "text/plain": [
       "'ConsumerCorporateHome Office'"
      ]
     },
     "execution_count": 15,
     "metadata": {},
     "output_type": "execute_result"
    }
   ],
   "source": [
    "data['Segment'].unique().sum()"
   ]
  },
  {
   "cell_type": "code",
   "execution_count": 16,
   "id": "terminal-atlanta",
   "metadata": {},
   "outputs": [],
   "source": [
    "# here we see there are 3 categories in our data ie Consumer ,Corporate Home , Office"
   ]
  },
  {
   "cell_type": "code",
   "execution_count": 17,
   "id": "modern-hometown",
   "metadata": {},
   "outputs": [
    {
     "name": "stderr",
     "output_type": "stream",
     "text": [
      "c:\\users\\hp\\appdata\\local\\programs\\python\\python37\\lib\\site-packages\\ipykernel_launcher.py:1: FutureWarning: Indexing with multiple keys (implicitly converted to a tuple of keys) will be deprecated, use a list instead.\n",
      "  \"\"\"Entry point for launching an IPython kernel.\n"
     ]
    },
    {
     "data": {
      "text/plain": [
       "<AxesSubplot:xlabel='Segment'>"
      ]
     },
     "execution_count": 17,
     "metadata": {},
     "output_type": "execute_result"
    },
    {
     "data": {
      "image/png": "[encoded data removed]",
      "text/plain": [
       "<Figure size 432x288 with 1 Axes>"
      ]
     },
     "metadata": {
      "needs_background": "light"
     },
     "output_type": "display_data"
    }
   ],
   "source": [
    "data.groupby('Segment')['Sales','Profit'].sum().plot.bar()"
   ]
  },
  {
   "cell_type": "markdown",
   "id": "japanese-venture",
   "metadata": {},
   "source": [
    "## Observation: \n",
    "1. Consumer are having maximum sales as well as profit followed by Corporate and Home office\n",
    "2. In all the three categories the sales and profit are directly related"
   ]
  },
  {
   "cell_type": "code",
   "execution_count": 18,
   "id": "boolean-fight",
   "metadata": {},
   "outputs": [
    {
     "data": {
      "text/plain": [
       "<AxesSubplot:xlabel='Segment', ylabel='count'>"
      ]
     },
     "execution_count": 18,
     "metadata": {},
     "output_type": "execute_result"
    },
    {
     "data": {
      "image/png": "[encoded data removed]",
      "text/plain": [
       "<Figure size 432x288 with 1 Axes>"
      ]
     },
     "metadata": {
      "needs_background": "light"
     },
     "output_type": "display_data"
    }
   ],
   "source": [
    "# Now lets see the relation between the segment and ship mode\n",
    "sns.countplot(x='Segment',hue='Ship Mode',data=data)"
   ]
  },
  {
   "cell_type": "markdown",
   "id": "smoking-future",
   "metadata": {},
   "source": [
    "## OBSERVATION:\n",
    "\n",
    "Here we see that most of the transactions are done using Standard Class for all of the segment categories."
   ]
  },
  {
   "cell_type": "markdown",
   "id": "weekly-release",
   "metadata": {},
   "source": [
    "## REGION"
   ]
  },
  {
   "cell_type": "code",
   "execution_count": 19,
   "id": "canadian-campus",
   "metadata": {},
   "outputs": [
    {
     "data": {
      "image/png": "[encoded data removed]",
      "text/plain": [
       "<Figure size 432x288 with 1 Axes>"
      ]
     },
     "metadata": {},
     "output_type": "display_data"
    }
   ],
   "source": [
    "data['Region'].value_counts().plot.pie(autopct='%.1f%%')\n",
    "plt.show()"
   ]
  },
  {
   "cell_type": "markdown",
   "id": "closing-mapping",
   "metadata": {},
   "source": [
    "## OBSERVATION :\n",
    "    \n",
    "West region has the maximum transaction and least by South region        "
   ]
  },
  {
   "cell_type": "code",
   "execution_count": 20,
   "id": "blessed-abortion",
   "metadata": {},
   "outputs": [
    {
     "name": "stderr",
     "output_type": "stream",
     "text": [
      "c:\\users\\hp\\appdata\\local\\programs\\python\\python37\\lib\\site-packages\\ipykernel_launcher.py:1: FutureWarning: Indexing with multiple keys (implicitly converted to a tuple of keys) will be deprecated, use a list instead.\n",
      "  \"\"\"Entry point for launching an IPython kernel.\n"
     ]
    },
    {
     "data": {
      "text/plain": [
       "<AxesSubplot:xlabel='Region'>"
      ]
     },
     "execution_count": 20,
     "metadata": {},
     "output_type": "execute_result"
    },
    {
     "data": {
      "image/png": "[encoded data removed]",
      "text/plain": [
       "<Figure size 432x288 with 1 Axes>"
      ]
     },
     "metadata": {
      "needs_background": "light"
     },
     "output_type": "display_data"
    }
   ],
   "source": [
    "data.groupby('Region')['Sales','Profit'].sum().plot.bar()"
   ]
  },
  {
   "cell_type": "markdown",
   "id": "white-rider",
   "metadata": {},
   "source": [
    "## Observation:\n",
    "        \n",
    "1. West region having maximum sales as well as maximum profit.\n",
    "2. While South has least sales and least profit and same for others."
   ]
  },
  {
   "cell_type": "markdown",
   "id": "welsh-carpet",
   "metadata": {},
   "source": [
    "# PRODUCTS"
   ]
  },
  {
   "cell_type": "code",
   "execution_count": 22,
   "id": "pointed-clothing",
   "metadata": {},
   "outputs": [
    {
     "name": "stderr",
     "output_type": "stream",
     "text": [
      "c:\\users\\hp\\appdata\\local\\programs\\python\\python37\\lib\\site-packages\\ipykernel_launcher.py:1: FutureWarning: Indexing with multiple keys (implicitly converted to a tuple of keys) will be deprecated, use a list instead.\n",
      "  \"\"\"Entry point for launching an IPython kernel.\n"
     ]
    },
    {
     "data": {
      "image/png": "[encoded data removed]",
      "text/plain": [
       "<Figure size 432x288 with 1 Axes>"
      ]
     },
     "metadata": {
      "needs_background": "light"
     },
     "output_type": "display_data"
    }
   ],
   "source": [
    "data.groupby('Category')['Sales','Profit'].sum().plot.bar()\n",
    "plt.show()"
   ]
  },
  {
   "cell_type": "markdown",
   "id": "proof-devices",
   "metadata": {},
   "source": [
    "## OBSERVATION:\n",
    "1. Technology category has the highest sales as well as highest profit \n",
    "2. Furniture category is having least profit despite having more sales than office supplies."
   ]
  },
  {
   "cell_type": "code",
   "execution_count": 28,
   "id": "piano-difficulty",
   "metadata": {},
   "outputs": [
    {
     "name": "stderr",
     "output_type": "stream",
     "text": [
      "c:\\users\\hp\\appdata\\local\\programs\\python\\python37\\lib\\site-packages\\ipykernel_launcher.py:1: FutureWarning: Indexing with multiple keys (implicitly converted to a tuple of keys) will be deprecated, use a list instead.\n",
      "  \"\"\"Entry point for launching an IPython kernel.\n"
     ]
    },
    {
     "data": {
      "image/png": "[encoded data removed]",
      "text/plain": [
       "<Figure size 432x288 with 1 Axes>"
      ]
     },
     "metadata": {
      "needs_background": "light"
     },
     "output_type": "display_data"
    }
   ],
   "source": [
    "data[data['Category']=='Furniture'].groupby('Sub-Category')['Sales','Profit'].sum().plot.bar()\n",
    "plt.show()\n"
   ]
  },
  {
   "cell_type": "markdown",
   "id": "acknowledged-exhibit",
   "metadata": {},
   "source": [
    "###here we are trying to see the sales and profit in subcategory where category is furniture and trying to find the reason for loss in furniture"
   ]
  },
  {
   "cell_type": "markdown",
   "id": "thermal-paris",
   "metadata": {},
   "source": [
    "## OBSERVATION\n",
    "\n",
    "1.Chairs are having maximum sales and maximum profit\n",
    "\n",
    "2.Book cases and tables are facing loss which is affecting the whole category furniture."
   ]
  },
  {
   "cell_type": "code",
   "execution_count": 29,
   "id": "ethical-happiness",
   "metadata": {},
   "outputs": [],
   "source": [
    "## now lets see why are these two subcategories facing loss by comparing them with discount"
   ]
  },
  {
   "cell_type": "code",
   "execution_count": 32,
   "id": "powerful-syria",
   "metadata": {},
   "outputs": [
    {
     "data": {
      "text/plain": [
       "<AxesSubplot:xlabel='Sub-Category'>"
      ]
     },
     "execution_count": 32,
     "metadata": {},
     "output_type": "execute_result"
    },
    {
     "data": {
      "image/png": "[encoded data removed]",
      "text/plain": [
       "<Figure size 432x288 with 1 Axes>"
      ]
     },
     "metadata": {
      "needs_background": "light"
     },
     "output_type": "display_data"
    }
   ],
   "source": [
    "data[data['Category']=='Furniture'].groupby('Sub-Category')['Discount'].mean().plot.bar()"
   ]
  },
  {
   "cell_type": "markdown",
   "id": "immune-tribe",
   "metadata": {},
   "source": [
    "## OBSERVATION\n",
    "here we see that Bookcases and Tables are having maximum discount ie more than 20% "
   ]
  },
  {
   "cell_type": "code",
   "execution_count": 33,
   "id": "continuing-illustration",
   "metadata": {},
   "outputs": [
    {
     "data": {
      "text/plain": [
       "<AxesSubplot:>"
      ]
     },
     "execution_count": 33,
     "metadata": {},
     "output_type": "execute_result"
    },
    {
     "data": {
      "image/png": "[encoded data removed]",
      "text/plain": [
       "<Figure size 432x288 with 2 Axes>"
      ]
     },
     "metadata": {
      "needs_background": "light"
     },
     "output_type": "display_data"
    }
   ],
   "source": [
    "sns.heatmap(data.corr(),annot=True)"
   ]
  },
  {
   "cell_type": "markdown",
   "id": "blond-magnet",
   "metadata": {},
   "source": [
    "## OBSERVATION\n",
    "In heatmap the correlation between Discount and sales is negative \n",
    "And also the coorelation between profit and discount is negative"
   ]
  },
  {
   "cell_type": "code",
   "execution_count": 35,
   "id": "controversial-hours",
   "metadata": {},
   "outputs": [
    {
     "data": {
      "image/png": "[encoded data removed]",
      "text/plain": [
       "<Figure size 432x288 with 2 Axes>"
      ]
     },
     "metadata": {
      "needs_background": "light"
     },
     "output_type": "display_data"
    }
   ],
   "source": [
    "sales_coz_discount = pd.pivot_table(data = data, index = 'Region', columns = 'Discount', values = 'Sales', aggfunc = 'sum')\n",
    "sns.heatmap(sales_coz_discount, cmap = 'Greens')\n",
    "plt.show()"
   ]
  },
  {
   "cell_type": "markdown",
   "id": "right-exposure",
   "metadata": {},
   "source": [
    "## OBSERVATION\n",
    "Its clearly visible that after an discount of 20% there is not much sales \n",
    "So we found that tables and bookcases are having an discount of 20% and more but the sales are not going high after 20% discount\n",
    "this is the reason of loss in furniture category\n",
    "        "
   ]
  },
  {
   "cell_type": "markdown",
   "id": "premium-reservation",
   "metadata": {},
   "source": [
    "# SOLUTION\n",
    "We should decrease the average discount of the tables and bookcases from 20% to increase sales "
   ]
  },
  {
   "cell_type": "markdown",
   "id": "interstate-record",
   "metadata": {},
   "source": [
    "## City and State"
   ]
  },
  {
   "cell_type": "code",
   "execution_count": 49,
   "id": "apparent-tourist",
   "metadata": {},
   "outputs": [
    {
     "data": {
      "text/plain": [
       "49"
      ]
     },
     "execution_count": 49,
     "metadata": {},
     "output_type": "execute_result"
    }
   ],
   "source": [
    "# Now lets analyse state and city\n",
    "data['State'].value_counts().count()"
   ]
  },
  {
   "cell_type": "code",
   "execution_count": 50,
   "id": "motivated-dream",
   "metadata": {},
   "outputs": [
    {
     "data": {
      "text/plain": [
       "531"
      ]
     },
     "execution_count": 50,
     "metadata": {},
     "output_type": "execute_result"
    }
   ],
   "source": [
    "data['City'].value_counts().count()"
   ]
  },
  {
   "cell_type": "markdown",
   "id": "opposed-journalism",
   "metadata": {},
   "source": [
    "### OBSERVATION\n",
    "the company sells its products in 49 states and 531 cities"
   ]
  },
  {
   "cell_type": "markdown",
   "id": "classified-kelly",
   "metadata": {},
   "source": [
    "## Top Products"
   ]
  },
  {
   "cell_type": "code",
   "execution_count": 57,
   "id": "going-definition",
   "metadata": {},
   "outputs": [
    {
     "data": {
      "text/plain": [
       "Text(0, 0.5, 'Sales')"
      ]
     },
     "execution_count": 57,
     "metadata": {},
     "output_type": "execute_result"
    },
    {
     "data": {
      "image/png": "[encoded data removed]",
      "text/plain": [
       "<Figure size 432x288 with 1 Axes>"
      ]
     },
     "metadata": {
      "needs_background": "light"
     },
     "output_type": "display_data"
    }
   ],
   "source": [
    "data.groupby('Sub-Category')['Sales'].sum().sort_values(ascending =False).plot.bar()\n",
    "plt.ylabel('Sales')"
   ]
  },
  {
   "cell_type": "markdown",
   "id": "funded-andrews",
   "metadata": {},
   "source": [
    "### OBSERVATION\n",
    "we see that phones and chairs are having maximum sales"
   ]
  },
  {
   "cell_type": "code",
   "execution_count": 56,
   "id": "blocked-organization",
   "metadata": {},
   "outputs": [
    {
     "data": {
      "text/plain": [
       "Text(0, 0.5, 'Profit')"
      ]
     },
     "execution_count": 56,
     "metadata": {},
     "output_type": "execute_result"
    },
    {
     "data": {
      "image/png": "[encoded data removed]",
      "text/plain": [
       "<Figure size 432x288 with 1 Axes>"
      ]
     },
     "metadata": {
      "needs_background": "light"
     },
     "output_type": "display_data"
    }
   ],
   "source": [
    "data.groupby('Sub-Category')['Profit'].sum().sort_values(ascending =False).plot.bar(color='g')\n",
    "plt.ylabel('Profit')"
   ]
  },
  {
   "cell_type": "markdown",
   "id": "laughing-banking",
   "metadata": {},
   "source": [
    "### OBSERVATION\n",
    "We see that Bookcases and Tables are having loss among all"
   ]
  },
  {
   "cell_type": "code",
   "execution_count": 55,
   "id": "expensive-tribe",
   "metadata": {},
   "outputs": [
    {
     "data": {
      "text/plain": [
       "Text(0, 0.5, 'Discount')"
      ]
     },
     "execution_count": 55,
     "metadata": {},
     "output_type": "execute_result"
    },
    {
     "data": {
      "image/png": "[encoded data removed]",
      "text/plain": [
       "<Figure size 432x288 with 1 Axes>"
      ]
     },
     "metadata": {
      "needs_background": "light"
     },
     "output_type": "display_data"
    }
   ],
   "source": [
    "data.groupby('Sub-Category')['Discount'].sum().sort_values(ascending =False).plot.bar()\n",
    "plt.ylabel('Discount')"
   ]
  },
  {
   "cell_type": "markdown",
   "id": "funky-speaking",
   "metadata": {},
   "source": [
    "### OBSERVATION\n",
    "Blinders have got the most discount of all items."
   ]
  },
  {
   "cell_type": "markdown",
   "id": "imposed-spirit",
   "metadata": {},
   "source": [
    "## Quantity"
   ]
  },
  {
   "cell_type": "markdown",
   "id": "governing-spending",
   "metadata": {},
   "source": [
    "Now lets see top 5 performing and least 5 performing products on basis of quantity"
   ]
  },
  {
   "cell_type": "code",
   "execution_count": 65,
   "id": "continuous-sixth",
   "metadata": {},
   "outputs": [
    {
     "name": "stdout",
     "output_type": "stream",
     "text": [
      "TOP 5 PERFORMING PRODUCTS \n",
      "Sub-Category\n",
      "Binders        5974\n",
      "Paper          5178\n",
      "Furnishings    3563\n",
      "Phones         3289\n",
      "Storage        3158\n",
      "Name: Quantity, dtype: int64\n"
     ]
    }
   ],
   "source": [
    "print(\"TOP 5 PERFORMING PRODUCTS \")\n",
    "print(data.groupby('Sub-Category')['Quantity'].sum().sort_values(ascending=False).head())\n",
    "\n"
   ]
  },
  {
   "cell_type": "code",
   "execution_count": 66,
   "id": "noticed-bridal",
   "metadata": {
    "scrolled": true
   },
   "outputs": [
    {
     "name": "stdout",
     "output_type": "stream",
     "text": [
      " LEAST 5 PERFORMING PRODUCTS\n",
      "Sub-Category\n",
      "Envelopes    906\n",
      "Bookcases    868\n",
      "Supplies     647\n",
      "Machines     440\n",
      "Copiers      234\n",
      "Name: Quantity, dtype: int64\n"
     ]
    }
   ],
   "source": [
    "print(\" LEAST 5 PERFORMING PRODUCTS\")\n",
    "print(data.groupby('Sub-Category')['Quantity'].sum().sort_values(ascending=False).tail())"
   ]
  },
  {
   "cell_type": "markdown",
   "id": "neither-charm",
   "metadata": {},
   "source": [
    "## ALL OBSERVATIONS\n",
    "1. min sales=1040 , max sales=99301 , min profit =-6599 ,max profit=8399\n",
    "2.total sales of company is 2297200 and total profit is 286397\n",
    "3.since there is only a single country therefore there is no need for this column\n",
    "and also postal code and hence we will drop this from our dataset\n",
    "4.Consumer are having maximum sales as well as profit followed by Corporate and Home office\n",
    "5.In all the three categories the sales and profit are directly related\n",
    "6.Most of the transactions are done using Standard Class for all of the segment categories.\n",
    "7.West region has the maximum transaction and least by South region\n",
    "8.West region having maximum sales as well as maximum profit.\n",
    "9.While South has least sales and least profit and same for others.\n",
    "10.Chairs are having maximum sales and maximum profit\n",
    "11.Book cases and tables are facing loss which is affecting the whole category furniture.\n",
    "12.Bookcases and Tables are having maximum discount ie more than 20%\n",
    "13.n heatmap the correlation between Discount and sales is negative And also the coorelation between profit \n",
    "discount is negative\n",
    "14.Its clearly visible that after an discount of 20% there is not much sales So we found that tables and bookcases \n",
    "are having an discount of 20% and more but the sles are \n",
    "not going high after 20% discount this is the reason of loss in furniture category\n",
    "15.the company sells its products in 49 states and 531 cities\n",
    "16.we see that phones and chairs are having maximum sales\n",
    "17.Blinders have got the most discount of all items.\n"
   ]
  },
  {
   "cell_type": "markdown",
   "id": "comparative-organ",
   "metadata": {},
   "source": [
    "## CONCLUSION\n",
    "We can increase the profits of furniture category by decreasing the average discounts given\n",
    "to the tables and bookcases under 20%."
   ]
  },
  {
   "cell_type": "code",
   "execution_count": null,
   "id": "floating-graduate",
   "metadata": {},
   "outputs": [],
   "source": []
  }
 ],
 "metadata": {
  "kernelspec": {
   "display_name": "Python 3",
   "language": "python",
   "name": "python3"
  },
  "language_info": {
   "codemirror_mode": {
    "name": "ipython",
    "version": 3
   },
   "file_extension": ".py",
   "mimetype": "text/x-python",
   "name": "python",
   "nbconvert_exporter": "python",
   "pygments_lexer": "ipython3",
   "version": "3.9.4"
  }
 },
 "nbformat": 4,
 "nbformat_minor": 5
}
